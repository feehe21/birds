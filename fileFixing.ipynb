{
 "cells": [
  {
   "cell_type": "code",
   "execution_count": 1,
   "id": "10b0cb87-69f5-47bb-a378-b56203132997",
   "metadata": {},
   "outputs": [
    {
     "name": "stdout",
     "output_type": "stream",
     "text": [
      "BirdsCustomCNN.ipynb\n",
      "fileFixing.ipynb\n",
      "BirdsInceptionTrain.ipynb\n",
      "BirdsInceptionPredict.ipynb\n"
     ]
    }
   ],
   "source": [
    "import os\n",
    "\n",
    "directory = r'/Users/feehe21/AI/PythonArtificialIntelligenceProjectsforBeginners_Code/Chapter05'\n",
    "\n",
    "for filename in os.listdir(directory):\n",
    "    if filename.endswith(\".ipynb\") or filename.endswith(\".pdf\"):\n",
    "        print(filename)\n",
    "    else:\n",
    "        continue"
   ]
  },
  {
   "cell_type": "code",
   "execution_count": null,
   "id": "b1581ecf-9a4f-49a7-861a-886c064158d2",
   "metadata": {},
   "outputs": [],
   "source": [
    "directory = r'/Users/feehe21/AI/PythonArtificialIntelligenceProjectsforBeginners_Code/Chapter05/test'\n",
    "for root, subdirectories, files in os.walk(directory):\n",
    "    j = 0\n",
    "    for subdirectory in subdirectories:\n",
    "        print(os.path.join(root, subdirectory))\n",
    "        j+=1\n",
    "        i = 0\n",
    "        for filename in os.listdir(os.path.join(root, subdirectory)):\n",
    "            i += 1\n",
    "            #if i > 5 and j == 1:\n",
    "            if i < 6:\n",
    "                print(filename)\n",
    "                print(\"hi\")\n",
    "                #os.remove(os.path.join(os.path.join(root, subdirectory), filename))\n",
    "            else:\n",
    "                os.remove(os.path.join(os.path.join(root, subdirectory), filename))"
   ]
  },
  {
   "cell_type": "code",
   "execution_count": null,
   "id": "99dcff74-d6e2-4aa0-9fd2-acf941969609",
   "metadata": {},
   "outputs": [],
   "source": []
  },
  {
   "cell_type": "code",
   "execution_count": null,
   "id": "d667fb73-a55e-4747-98e5-fabe1d4390d2",
   "metadata": {},
   "outputs": [],
   "source": [
    "directory = r'/Users/feehe21/AI/PythonArtificialIntelligenceProjectsforBeginners_Code/Chapter05/test-birds'\n",
    "for root, subdirectories, files in os.walk(directory):\n",
    "    j = 0\n",
    "    for subdirectory in subdirectories:\n",
    "        print(os.path.join(root, subdirectory))\n",
    "        j+=1\n",
    "        i = 0\n",
    "        for filename in os.listdir(os.path.join(root, subdirectory)):\n",
    "            i += 1\n",
    "            #if i > 5 and j == 1:\n",
    "            if i < 2:\n",
    "                print(filename)\n",
    "                print(\"hi\")\n",
    "                #os.remove(os.path.join(os.path.join(root, subdirectory), filename))\n",
    "            else:\n",
    "                os.remove(os.path.join(os.path.join(root, subdirectory), filename))"
   ]
  },
  {
   "cell_type": "code",
   "execution_count": 2,
   "id": "bacefcf8-81ca-4e4c-9f5e-1a22efcc4943",
   "metadata": {},
   "outputs": [
    {
     "name": "stdout",
     "output_type": "stream",
     "text": [
      "001.Black_footed_Albatross\n"
     ]
    }
   ],
   "source": [
    "directory = r'/Users/feehe21/AI/PythonArtificialIntelligenceProjectsforBeginners_Code/Chapter05/test-birds'\n",
    "for root, subdirectories, files in os.walk(directory):\n",
    "    for subdirectory in subdirectories:\n",
    "        if num in subdirectory:\n",
    "            print(subdirectory)\n",
    "            for filename in os.listdir(os.path.join(root, subdirectory)):\n",
    "                return os.path.join(os.path.join(root, subdirectory), filename)"
   ]
  },
  {
   "cell_type": "code",
   "execution_count": null,
   "id": "b155078e-370c-4df4-8da5-ec42a65c438f",
   "metadata": {},
   "outputs": [],
   "source": []
  }
 ],
 "metadata": {
  "kernelspec": {
   "display_name": "Python 3",
   "language": "python",
   "name": "python3"
  },
  "language_info": {
   "codemirror_mode": {
    "name": "ipython",
    "version": 3
   },
   "file_extension": ".py",
   "mimetype": "text/x-python",
   "name": "python",
   "nbconvert_exporter": "python",
   "pygments_lexer": "ipython3",
   "version": "3.6.13"
  }
 },
 "nbformat": 4,
 "nbformat_minor": 5
}
